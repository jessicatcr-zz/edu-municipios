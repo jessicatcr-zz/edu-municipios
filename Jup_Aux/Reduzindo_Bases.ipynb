{
 "cells": [
  {
   "cell_type": "code",
   "execution_count": 4,
   "metadata": {},
   "outputs": [],
   "source": [
    "# -*- coding: utf 8\n",
    "\n",
    "from matplotlib import pyplot as plt\n",
    "\n",
    "import pandas as pd\n",
    "import numpy as np"
   ]
  },
  {
   "cell_type": "code",
   "execution_count": 5,
   "metadata": {},
   "outputs": [],
   "source": [
    "dfHab = pd.read_csv('Base_Munic_2017_Habit.csv')\n",
    "dfMeioAmb = pd.read_csv('Base_Munic_2017_MeioAmb.csv')\n",
    "dfGestRiscos = pd.read_csv('Base_Munic_2017_GestaoRisco.csv')\n",
    "dfTransp = pd.read_csv('Base_Munic_2017_Transp.csv')\n"
   ]
  },
  {
   "cell_type": "code",
   "execution_count": 55,
   "metadata": {},
   "outputs": [],
   "source": [
    "dfHab = dfHab.loc[:,['CodMun', 'MHAB191', 'MHAB192', 'MHAB193', 'MHAB194']]\n",
    "dfHab = dfHab.rename(index=str, columns={\"MHAB191\": \"Favela\", \"MHAB192\": \"Cortico\", \"MHAB193\":\"Lote_Irr\", \"MHAB194\":\"Ocupacao\"})\n",
    "dfHab\n",
    "\n",
    "#export_csv0 = dfHab.to_csv (r'Base_Munic_2017_Habit_Red.csv', index = None, header=True)\n",
    "#export_csv0"
   ]
  },
  {
   "cell_type": "code",
   "execution_count": 56,
   "metadata": {},
   "outputs": [],
   "source": [
    "dfMeioAmb = dfMeioAmb.loc[:,['CodMun', 'MMAM25', 'MMAM261', 'MMAM262', 'MMAM263', 'MMAM264', 'MMAM265', 'MMAM266', 'MMAM267', 'MMAM269', 'MMAM2611', 'MMAM2612', 'MMAM2613']]\n",
    "dfMeioAmb = dfMeioAmb.rename(index=str, columns={\"MMAM25\": \"ImpacAmb_24meses\", \"MMAM261\": \"Secas_Enxurr\", \"MMAM262\": \"PoluiAr\", \"MMAM263\": \"Polui_corpoAgua\", \"MMAM264\": \"Assorea_corpoAgua\", \"MMAM265\": \"DiminVazao_corpoAgua\", \"MMAM266\": \"Desmatam\", \"MMAM267\": \"Queimad\", \"MMAM269\": \"Erosao_Desert\", \n",
    "\"MMAM2611\": \"Dimin_FaunaFlora\", \"MMAM2612\": \"MoradRiscoAmb\", \"MMAM2613\": \"FaltaSaneamen\"})\n",
    "dfMeioAmb\n",
    "\n",
    "#export_csv1 = dfMeioAmb.to_csv (r'Base_Munic_2017_MeioAmb_Red.csv', index = None, header=True)\n",
    "#export_csv1"
   ]
  },
  {
   "cell_type": "code",
   "execution_count": 57,
   "metadata": {},
   "outputs": [],
   "source": [
    "dfTransp = dfTransp.loc[:, ['CodMun', 'MTRA181', 'MTRA182', 'MTRA183', 'MTRA184', 'MTRA185', 'MTRA186', 'MTRA187']]\n",
    "dfTransp = dfTransp.rename(index=str, columns={\"MTRA181\": \"Barco\", \"MTRA182\": \"Metro\", \"MTRA183\": \"Mototx\", \"MTRA184\": \"Taxi\", \"MTRA185\": \"Trem\", \"MTRA186\": \"Van\", \"MTRA187\": \"Aviao\"})\n",
    "dfTransp\n",
    "\n",
    "#export_csv2 = dfTransp.to_csv (r'Base_Munic_2017_Transp_Red.csv', index = None, header=True)\n",
    "#export_csv2"
   ]
  },
  {
   "cell_type": "code",
   "execution_count": 7,
   "metadata": {},
   "outputs": [],
   "source": [
    "dfGestRiscos = dfGestRiscos.loc[:,['CodMun', 'MGRD01', 'MGRD06', 'MGRD07', 'MGRD08', 'MGRD11', 'MGRD14']]\n",
    "dfGestRiscos = dfGestRiscos.rename(index=str, columns={\"MGRD01\": \"AtingidoPorSeca_4a\", \"MGRD06\": \"AtingidoPorAlagam_4a\", \"MGRD07\": \"AtingidoPorErosao_4a\", \"MGRD08\": \"AtingidoPorEnchente_4a\", \"MGRD11\": \"AtingidoPorEnxurrada_4a\", \"MGRD14\": \"AtingidoPorDeslizam_4a\"})\n",
    "dfGestRiscos\n",
    "\n",
    "#export_csv3 = dfGestRiscos.to_csv (r'Base_Munic_2017_GestaoRisco_Red.csv', index = None, header=True)\n",
    "#export_csv3"
   ]
  },
  {
   "cell_type": "code",
   "execution_count": 6,
   "metadata": {},
   "outputs": [
    {
     "data": {
      "text/plain": [
       "Index(['CodMun', 'REGIAO', 'COD_UF', 'UF', 'NOME_MUNIC', 'POP_EST',\n",
       "       'CLASSE_POP'],\n",
       "      dtype='object')"
      ]
     },
     "execution_count": 6,
     "metadata": {},
     "output_type": "execute_result"
    }
   ],
   "source": [
    "dfPop = pd.read_csv('Base_Munic_2017_Pop.csv')\n",
    "\n",
    "dfPop = dfPop.rename(index=str, columns={\"COD UF\": \"COD_UF\", \"NOME MUNIC\": \"NOME_MUNIC\", \"POP EST\": \"POP_EST\", \"CLASSE POP\": \"CLASSE_POP\"})\n",
    "dfPop.columns\n",
    "\n",
    "#export_csv4 = dfPop.to_csv (r'Base_Munic_2017_Pop_Red.csv', index = None, header=True)\n",
    "#export_csv4"
   ]
  },
  {
   "cell_type": "code",
   "execution_count": 78,
   "metadata": {},
   "outputs": [
    {
     "data": {
      "text/plain": [
       "Index(['UF', 'Cod_Municipio', 'Nome_Municipio', 'Rede', 'Taxa_Aprovacao_1-5 ',\n",
       "       'Taxa_Aprovacao_1', 'Taxa_Aprovacao_2', 'Taxa_Aprovacao_3',\n",
       "       'Taxa_Aprovacao_4', 'Taxa_Aprovacao_5', 'Indicador_Rendimento_P',\n",
       "       'Matemática', 'Língua_Portuguesa', 'Nota_Media_Padronizada_N',\n",
       "       'IDEB_N_x_P'],\n",
       "      dtype='object')"
      ]
     },
     "execution_count": 78,
     "metadata": {},
     "output_type": "execute_result"
    }
   ],
   "source": [
    "dfIDEB = pd.read_csv('IDEB_Anos_Iniciais_2017_Reduzido.csv')\n",
    "dfIDEB = dfIDEB.head(14436)\n",
    "#df_MG = df.loc[dfIDEB['UF']=='MG']\n",
    "dfIDEB.columns"
   ]
  }
 ],
 "metadata": {
  "kernelspec": {
   "display_name": "Python 3",
   "language": "python",
   "name": "python3"
  },
  "language_info": {
   "codemirror_mode": {
    "name": "ipython",
    "version": 3
   },
   "file_extension": ".py",
   "mimetype": "text/x-python",
   "name": "python",
   "nbconvert_exporter": "python",
   "pygments_lexer": "ipython3",
   "version": "3.7.1"
  }
 },
 "nbformat": 4,
 "nbformat_minor": 2
}
